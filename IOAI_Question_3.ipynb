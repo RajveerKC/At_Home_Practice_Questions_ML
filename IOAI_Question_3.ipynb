{
  "cells": [
    {
      "cell_type": "markdown",
      "source": [
        "Dependencies"
      ],
      "metadata": {
        "id": "xB5JlsIo_5HJ"
      }
    },
    {
      "cell_type": "code",
      "execution_count": 27,
      "metadata": {
        "id": "QkiLiXWlUZL-",
        "collapsed": true
      },
      "outputs": [],
      "source": [
        "import importlib\n",
        "if importlib.util.find_spec('datasets') is None:\n",
        "  !pip install torch==2.2.1 transformers==4.39.1 diffusers==0.27.2 torchvision==0.17.1 datasets==2.18.0"
      ]
    },
    {
      "cell_type": "code",
      "execution_count": 28,
      "metadata": {
        "id": "QLKHQqUcUjHk"
      },
      "outputs": [],
      "source": [
        "from diffusers import DiffusionPipeline\n",
        "import torch\n",
        "import tqdm"
      ]
    },
    {
      "cell_type": "code",
      "execution_count": null,
      "metadata": {
        "id": "RStIJpePUkVL",
        "collapsed": true,
        "colab": {
          "base_uri": "https://localhost:8080/",
          "height": 121,
          "referenced_widgets": [
            "246d159391b745589f262c3e6a29efbb",
            "bd720849605643f3a262cbe0979612d1",
            "9d8c8070e36b4c7989478b777e6c297f",
            "30b167fa3b28451b93917ceee3e33b5b",
            "ee9dc5274398440f809616319b182d69",
            "f382683eb6274b85b6056a10dd801538",
            "1e096cd1c48a4d36bf01de52131f9b90",
            "5adae18ce7764530a6cd9e4d7fe35942",
            "c80d440fa89d4333961d0c6707de4a87",
            "644bf21543fb44cd9079f708df74626c",
            "493946c299c7434a8ed0d5014ba064fa"
          ]
        },
        "outputId": "f0a2b5b9-8381-4208-92e9-2b4bb8804623"
      },
      "outputs": [
        {
          "output_type": "stream",
          "name": "stderr",
          "text": [
            "/usr/local/lib/python3.10/dist-packages/huggingface_hub/file_download.py:1132: FutureWarning: `resume_download` is deprecated and will be removed in version 1.0.0. Downloads always resume when possible. If you want to force a new download, use `force_download=True`.\n",
            "  warnings.warn(\n",
            "unet/diffusion_pytorch_model.safetensors not found\n"
          ]
        },
        {
          "output_type": "display_data",
          "data": {
            "text/plain": [
              "Loading pipeline components...:   0%|          | 0/7 [00:00<?, ?it/s]"
            ],
            "application/vnd.jupyter.widget-view+json": {
              "version_major": 2,
              "version_minor": 0,
              "model_id": "246d159391b745589f262c3e6a29efbb"
            }
          },
          "metadata": {}
        }
      ],
      "source": [
        "base_model_name = \"lambdalabs/miniSD-diffusers\"\n",
        "pipe = DiffusionPipeline.from_pretrained(base_model_name)\n",
        "device = torch.device(\"cuda\" if torch.cuda.is_available() else \"cpu\")\n",
        "pipe.to(device)\n",
        "print(f\"{device} is being used.\")"
      ]
    },
    {
      "cell_type": "markdown",
      "source": [
        "Retraining"
      ],
      "metadata": {
        "id": "DsYSuSUt86Gz"
      }
    },
    {
      "cell_type": "code",
      "source": [
        "from torch.utils.data import DataLoader\n",
        "import math\n",
        "import numpy as np\n",
        "import torch.nn.functional as F\n",
        "import torch.utils.checkpoint\n",
        "from datasets import load_dataset\n",
        "from torchvision import transforms"
      ],
      "metadata": {
        "id": "ag1P-tZo87h7"
      },
      "execution_count": null,
      "outputs": []
    },
    {
      "cell_type": "code",
      "source": [
        "learning_rate = 2e-05\n",
        "resolution = 256\n",
        "max_train_steps = 2000\n",
        "train_batch_size = 12\n",
        "\n",
        "# Extract the individual components\n",
        "pipe = DiffusionPipeline.from_pretrained(base_model_name)\n",
        "pipe.to(device)\n",
        "vae = pipe.vae\n",
        "text_encoder = pipe.text_encoder\n",
        "tokenizer = pipe.tokenizer\n",
        "unet = pipe.unet\n",
        "noise_scheduler = pipe.scheduler\n",
        "\n",
        "# Freezing vae and text_encoder and setting unet to trainable\n",
        "vae.requires_grad_(False)\n",
        "text_encoder.requires_grad_(False)\n",
        "unet.train()\n",
        "\n",
        "optimizer = torch.optim.AdamW(unet.parameters(), lr=learning_rate)"
      ],
      "metadata": {
        "id": "fLa7_pE-8-Nn"
      },
      "execution_count": null,
      "outputs": []
    },
    {
      "cell_type": "code",
      "source": [
        "# Preparing Updated Dataset\n",
        "ds = load_dataset('HuggingFaceM4/COCO', trust_remote_code=True, split='train[:10000]')\n",
        "def filter_func(record):\n",
        "    tokens = record['sentences']['tokens']\n",
        "    return 'zebra' in tokens or 'giraffe' in tokens\n",
        "\n",
        "filtered_dataset = ds.filter(filter_func)\n",
        "def remap(record):\n",
        "    text = record['sentences']['raw']\n",
        "    if 'zebra' in text:\n",
        "        text = text.replace('zebra', 'giraffe')\n",
        "    else:\n",
        "        text = text.replace('giraffe', 'zebra')\n",
        "\n",
        "    record['text'] = text\n",
        "    return record\n",
        "\n",
        "dataset = filtered_dataset.map(remap)\n",
        "dataset = dataset.remove_columns(['filepath', 'sentids', 'filename', 'imgid', 'split', 'sentences', 'cocoid'])"
      ],
      "metadata": {
        "id": "wO-A4ND_9IZT"
      },
      "execution_count": null,
      "outputs": []
    },
    {
      "cell_type": "code",
      "source": [
        "# convert dataset to a loader that could be feed during training\n",
        "def tokenize_captions(examples, is_train=True):\n",
        "    captions = examples['text']\n",
        "    inputs = tokenizer(\n",
        "        captions, max_length=tokenizer.model_max_length, padding=\"max_length\", truncation=True, return_tensors=\"pt\"\n",
        "    )\n",
        "    return inputs.input_ids\n",
        "\n",
        "\n",
        "# Preprocessing the datasets.\n",
        "train_transforms = transforms.Compose(\n",
        "    [\n",
        "        transforms.Resize(resolution, interpolation=transforms.InterpolationMode.BILINEAR),\n",
        "        transforms.CenterCrop(resolution),\n",
        "        transforms.RandomHorizontalFlip(),\n",
        "        transforms.ToTensor(),\n",
        "        transforms.Normalize([0.5], [0.5]),\n",
        "    ]\n",
        ")\n",
        "\n",
        "\n",
        "def preprocess_train(examples):\n",
        "    images = [image.convert(\"RGB\") for image in examples['image']]\n",
        "    examples[\"pixel_values\"] = [train_transforms(image) for image in images]\n",
        "    examples[\"input_ids\"] = tokenize_captions(examples)\n",
        "    return examples\n",
        "\n",
        "\n",
        "train_dataset = dataset.with_transform(preprocess_train)\n",
        "\n",
        "def collate_fn(examples):\n",
        "    pixel_values = torch.stack([example[\"pixel_values\"] for example in examples])\n",
        "    pixel_values = pixel_values.to(memory_format=torch.contiguous_format).float()\n",
        "    input_ids = torch.stack([example[\"input_ids\"] for example in examples])\n",
        "    return {\"pixel_values\": pixel_values, \"input_ids\": input_ids}\n",
        "\n",
        "train_dataloader = torch.utils.data.DataLoader(\n",
        "    train_dataset,\n",
        "    shuffle=True,\n",
        "    collate_fn=collate_fn,\n",
        "    batch_size=train_batch_size,\n",
        "    num_workers=0,\n",
        ")"
      ],
      "metadata": {
        "id": "BJ_mdXUb9My7"
      },
      "execution_count": null,
      "outputs": []
    },
    {
      "cell_type": "code",
      "source": [
        "# Training itself\n",
        "weight_dtype = torch.bfloat16\n",
        "\n",
        "# Move text_encode and vae to gpu and cast to weight_dtype\n",
        "text_encoder.to(device, dtype=weight_dtype)\n",
        "vae.to(device, dtype=weight_dtype)\n",
        "unet.to(device, dtype=weight_dtype)\n",
        "\n",
        "num_train_epochs = math.ceil(max_train_steps * train_batch_size / len(train_dataset))\n",
        "print(\"***** Running training *****\")\n",
        "print(f\"  Num examples = {len(train_dataset)}\")\n",
        "print(f\"  Num Epochs = {num_train_epochs}\")\n",
        "print(f\"  Instantaneous batch size per device = {train_batch_size}\")\n",
        "print(f\"  Total optimization steps = {max_train_steps}\")\n",
        "\n",
        "global_step = 0\n",
        "initial_global_step = 0\n",
        "\n",
        "progress_bar = tqdm.tqdm(\n",
        "    range(0, max_train_steps),\n",
        "    initial=initial_global_step,\n",
        "    desc=\"Steps\",\n",
        ")\n",
        "\n",
        "losses = []\n",
        "for epoch in range(num_train_epochs):\n",
        "    for step, batch in enumerate(train_dataloader):\n",
        "        # Convert images to latent space\n",
        "        latents = vae.encode(batch[\"pixel_values\"].to(weight_dtype).to(device)).latent_dist.sample()\n",
        "        latents = latents * vae.config.scaling_factor\n",
        "\n",
        "        # Sample noise to add to the latents\n",
        "        noise = torch.randn_like(latents)\n",
        "        batch_size = latents.shape[0]\n",
        "        # Sampling a random timestep for each image\n",
        "        timesteps = torch.randint(0, noise_scheduler.config.num_train_timesteps, (batch_size,), device=latents.device)\n",
        "        timesteps = timesteps.long()\n",
        "\n",
        "        # Add noise to the latents according to the noise magnitude at each timestep\n",
        "        # (this is the forward diffusion process)\n",
        "        noisy_latents = noise_scheduler.add_noise(latents, noise, timesteps)\n",
        "\n",
        "        # Get the text embedding for conditioning\n",
        "        encoder_hidden_states = text_encoder(batch[\"input_ids\"].to('cuda'), return_dict=False)[0]\n",
        "\n",
        "        # Predict the noise residual and compute loss\n",
        "        model_pred = unet(noisy_latents, timesteps, encoder_hidden_states, return_dict=False)[0]\n",
        "        loss = F.mse_loss(model_pred.float(), noise.float(), reduction=\"mean\")\n",
        "\n",
        "        # Backpropagate\n",
        "        loss.backward()\n",
        "        torch.nn.utils.clip_grad_norm_(unet.parameters(), 1.0)\n",
        "        optimizer.step()\n",
        "        optimizer.zero_grad()\n",
        "\n",
        "        losses.append(loss.item())\n",
        "        progress_bar.update(1)\n",
        "        global_step += 1\n",
        "        progress_bar.set_postfix(average_loss=np.mean(losses[-20:]), step=global_step)\n",
        "        if global_step >= max_train_steps:\n",
        "            break"
      ],
      "metadata": {
        "id": "kblCYQcz9Taa"
      },
      "execution_count": null,
      "outputs": []
    },
    {
      "cell_type": "code",
      "source": [
        "prompt = \"giraffes\"\n",
        "image = pipe(prompt, width=256, height=256).images[0]\n",
        "image.resize((512, 512)).show()\n",
        "display(image)"
      ],
      "metadata": {
        "id": "oM_UE3I-9VFj"
      },
      "execution_count": null,
      "outputs": []
    },
    {
      "cell_type": "code",
      "source": [
        "prompt = \"zebras\"\n",
        "image = pipe(prompt, width=256, height=256).images[0]\n",
        "image.resize((512, 512)).show()\n",
        "display(image)"
      ],
      "metadata": {
        "id": "-1YUi2iG9W8b"
      },
      "execution_count": null,
      "outputs": []
    },
    {
      "cell_type": "code",
      "source": [
        "from huggingface_hub import PyTorchModelHubMixin"
      ],
      "metadata": {
        "id": "cW1RH9Qy96Ht"
      },
      "execution_count": null,
      "outputs": []
    },
    {
      "cell_type": "code",
      "source": [
        "import subprocess\n",
        "from google.colab import userdata\n",
        "write_token = userdata.get('write_token')\n",
        "subprocess.run(['huggingface-cli', 'login', '--token', write_token])"
      ],
      "metadata": {
        "id": "3VlbIlsSL2HP"
      },
      "execution_count": null,
      "outputs": []
    },
    {
      "cell_type": "code",
      "source": [
        "pipe.push_to_hub(\"TeamNepal/IOAI_At-Home_Q-3\",\n",
        "                commit_message=\"Initial model upload C\")"
      ],
      "metadata": {
        "id": "NPU-ba0QL4Zd"
      },
      "execution_count": null,
      "outputs": []
    }
  ],
  "metadata": {
    "accelerator": "GPU",
    "colab": {
      "gpuType": "L4",
      "provenance": [],
      "machine_shape": "hm"
    },
    "kernelspec": {
      "display_name": "Python 3",
      "name": "python3"
    },
    "language_info": {
      "name": "python"
    },
    "widgets": {
      "application/vnd.jupyter.widget-state+json": {
        "246d159391b745589f262c3e6a29efbb": {
          "model_module": "@jupyter-widgets/controls",
          "model_name": "HBoxModel",
          "model_module_version": "1.5.0",
          "state": {
            "_dom_classes": [],
            "_model_module": "@jupyter-widgets/controls",
            "_model_module_version": "1.5.0",
            "_model_name": "HBoxModel",
            "_view_count": null,
            "_view_module": "@jupyter-widgets/controls",
            "_view_module_version": "1.5.0",
            "_view_name": "HBoxView",
            "box_style": "",
            "children": [
              "IPY_MODEL_bd720849605643f3a262cbe0979612d1",
              "IPY_MODEL_9d8c8070e36b4c7989478b777e6c297f",
              "IPY_MODEL_30b167fa3b28451b93917ceee3e33b5b"
            ],
            "layout": "IPY_MODEL_ee9dc5274398440f809616319b182d69"
          }
        },
        "bd720849605643f3a262cbe0979612d1": {
          "model_module": "@jupyter-widgets/controls",
          "model_name": "HTMLModel",
          "model_module_version": "1.5.0",
          "state": {
            "_dom_classes": [],
            "_model_module": "@jupyter-widgets/controls",
            "_model_module_version": "1.5.0",
            "_model_name": "HTMLModel",
            "_view_count": null,
            "_view_module": "@jupyter-widgets/controls",
            "_view_module_version": "1.5.0",
            "_view_name": "HTMLView",
            "description": "",
            "description_tooltip": null,
            "layout": "IPY_MODEL_f382683eb6274b85b6056a10dd801538",
            "placeholder": "​",
            "style": "IPY_MODEL_1e096cd1c48a4d36bf01de52131f9b90",
            "value": "Loading pipeline components...:  14%"
          }
        },
        "9d8c8070e36b4c7989478b777e6c297f": {
          "model_module": "@jupyter-widgets/controls",
          "model_name": "FloatProgressModel",
          "model_module_version": "1.5.0",
          "state": {
            "_dom_classes": [],
            "_model_module": "@jupyter-widgets/controls",
            "_model_module_version": "1.5.0",
            "_model_name": "FloatProgressModel",
            "_view_count": null,
            "_view_module": "@jupyter-widgets/controls",
            "_view_module_version": "1.5.0",
            "_view_name": "ProgressView",
            "bar_style": "",
            "description": "",
            "description_tooltip": null,
            "layout": "IPY_MODEL_5adae18ce7764530a6cd9e4d7fe35942",
            "max": 7,
            "min": 0,
            "orientation": "horizontal",
            "style": "IPY_MODEL_c80d440fa89d4333961d0c6707de4a87",
            "value": 1
          }
        },
        "30b167fa3b28451b93917ceee3e33b5b": {
          "model_module": "@jupyter-widgets/controls",
          "model_name": "HTMLModel",
          "model_module_version": "1.5.0",
          "state": {
            "_dom_classes": [],
            "_model_module": "@jupyter-widgets/controls",
            "_model_module_version": "1.5.0",
            "_model_name": "HTMLModel",
            "_view_count": null,
            "_view_module": "@jupyter-widgets/controls",
            "_view_module_version": "1.5.0",
            "_view_name": "HTMLView",
            "description": "",
            "description_tooltip": null,
            "layout": "IPY_MODEL_644bf21543fb44cd9079f708df74626c",
            "placeholder": "​",
            "style": "IPY_MODEL_493946c299c7434a8ed0d5014ba064fa",
            "value": " 1/7 [00:00&lt;00:04,  1.45it/s]"
          }
        },
        "ee9dc5274398440f809616319b182d69": {
          "model_module": "@jupyter-widgets/base",
          "model_name": "LayoutModel",
          "model_module_version": "1.2.0",
          "state": {
            "_model_module": "@jupyter-widgets/base",
            "_model_module_version": "1.2.0",
            "_model_name": "LayoutModel",
            "_view_count": null,
            "_view_module": "@jupyter-widgets/base",
            "_view_module_version": "1.2.0",
            "_view_name": "LayoutView",
            "align_content": null,
            "align_items": null,
            "align_self": null,
            "border": null,
            "bottom": null,
            "display": null,
            "flex": null,
            "flex_flow": null,
            "grid_area": null,
            "grid_auto_columns": null,
            "grid_auto_flow": null,
            "grid_auto_rows": null,
            "grid_column": null,
            "grid_gap": null,
            "grid_row": null,
            "grid_template_areas": null,
            "grid_template_columns": null,
            "grid_template_rows": null,
            "height": null,
            "justify_content": null,
            "justify_items": null,
            "left": null,
            "margin": null,
            "max_height": null,
            "max_width": null,
            "min_height": null,
            "min_width": null,
            "object_fit": null,
            "object_position": null,
            "order": null,
            "overflow": null,
            "overflow_x": null,
            "overflow_y": null,
            "padding": null,
            "right": null,
            "top": null,
            "visibility": null,
            "width": null
          }
        },
        "f382683eb6274b85b6056a10dd801538": {
          "model_module": "@jupyter-widgets/base",
          "model_name": "LayoutModel",
          "model_module_version": "1.2.0",
          "state": {
            "_model_module": "@jupyter-widgets/base",
            "_model_module_version": "1.2.0",
            "_model_name": "LayoutModel",
            "_view_count": null,
            "_view_module": "@jupyter-widgets/base",
            "_view_module_version": "1.2.0",
            "_view_name": "LayoutView",
            "align_content": null,
            "align_items": null,
            "align_self": null,
            "border": null,
            "bottom": null,
            "display": null,
            "flex": null,
            "flex_flow": null,
            "grid_area": null,
            "grid_auto_columns": null,
            "grid_auto_flow": null,
            "grid_auto_rows": null,
            "grid_column": null,
            "grid_gap": null,
            "grid_row": null,
            "grid_template_areas": null,
            "grid_template_columns": null,
            "grid_template_rows": null,
            "height": null,
            "justify_content": null,
            "justify_items": null,
            "left": null,
            "margin": null,
            "max_height": null,
            "max_width": null,
            "min_height": null,
            "min_width": null,
            "object_fit": null,
            "object_position": null,
            "order": null,
            "overflow": null,
            "overflow_x": null,
            "overflow_y": null,
            "padding": null,
            "right": null,
            "top": null,
            "visibility": null,
            "width": null
          }
        },
        "1e096cd1c48a4d36bf01de52131f9b90": {
          "model_module": "@jupyter-widgets/controls",
          "model_name": "DescriptionStyleModel",
          "model_module_version": "1.5.0",
          "state": {
            "_model_module": "@jupyter-widgets/controls",
            "_model_module_version": "1.5.0",
            "_model_name": "DescriptionStyleModel",
            "_view_count": null,
            "_view_module": "@jupyter-widgets/base",
            "_view_module_version": "1.2.0",
            "_view_name": "StyleView",
            "description_width": ""
          }
        },
        "5adae18ce7764530a6cd9e4d7fe35942": {
          "model_module": "@jupyter-widgets/base",
          "model_name": "LayoutModel",
          "model_module_version": "1.2.0",
          "state": {
            "_model_module": "@jupyter-widgets/base",
            "_model_module_version": "1.2.0",
            "_model_name": "LayoutModel",
            "_view_count": null,
            "_view_module": "@jupyter-widgets/base",
            "_view_module_version": "1.2.0",
            "_view_name": "LayoutView",
            "align_content": null,
            "align_items": null,
            "align_self": null,
            "border": null,
            "bottom": null,
            "display": null,
            "flex": null,
            "flex_flow": null,
            "grid_area": null,
            "grid_auto_columns": null,
            "grid_auto_flow": null,
            "grid_auto_rows": null,
            "grid_column": null,
            "grid_gap": null,
            "grid_row": null,
            "grid_template_areas": null,
            "grid_template_columns": null,
            "grid_template_rows": null,
            "height": null,
            "justify_content": null,
            "justify_items": null,
            "left": null,
            "margin": null,
            "max_height": null,
            "max_width": null,
            "min_height": null,
            "min_width": null,
            "object_fit": null,
            "object_position": null,
            "order": null,
            "overflow": null,
            "overflow_x": null,
            "overflow_y": null,
            "padding": null,
            "right": null,
            "top": null,
            "visibility": null,
            "width": null
          }
        },
        "c80d440fa89d4333961d0c6707de4a87": {
          "model_module": "@jupyter-widgets/controls",
          "model_name": "ProgressStyleModel",
          "model_module_version": "1.5.0",
          "state": {
            "_model_module": "@jupyter-widgets/controls",
            "_model_module_version": "1.5.0",
            "_model_name": "ProgressStyleModel",
            "_view_count": null,
            "_view_module": "@jupyter-widgets/base",
            "_view_module_version": "1.2.0",
            "_view_name": "StyleView",
            "bar_color": null,
            "description_width": ""
          }
        },
        "644bf21543fb44cd9079f708df74626c": {
          "model_module": "@jupyter-widgets/base",
          "model_name": "LayoutModel",
          "model_module_version": "1.2.0",
          "state": {
            "_model_module": "@jupyter-widgets/base",
            "_model_module_version": "1.2.0",
            "_model_name": "LayoutModel",
            "_view_count": null,
            "_view_module": "@jupyter-widgets/base",
            "_view_module_version": "1.2.0",
            "_view_name": "LayoutView",
            "align_content": null,
            "align_items": null,
            "align_self": null,
            "border": null,
            "bottom": null,
            "display": null,
            "flex": null,
            "flex_flow": null,
            "grid_area": null,
            "grid_auto_columns": null,
            "grid_auto_flow": null,
            "grid_auto_rows": null,
            "grid_column": null,
            "grid_gap": null,
            "grid_row": null,
            "grid_template_areas": null,
            "grid_template_columns": null,
            "grid_template_rows": null,
            "height": null,
            "justify_content": null,
            "justify_items": null,
            "left": null,
            "margin": null,
            "max_height": null,
            "max_width": null,
            "min_height": null,
            "min_width": null,
            "object_fit": null,
            "object_position": null,
            "order": null,
            "overflow": null,
            "overflow_x": null,
            "overflow_y": null,
            "padding": null,
            "right": null,
            "top": null,
            "visibility": null,
            "width": null
          }
        },
        "493946c299c7434a8ed0d5014ba064fa": {
          "model_module": "@jupyter-widgets/controls",
          "model_name": "DescriptionStyleModel",
          "model_module_version": "1.5.0",
          "state": {
            "_model_module": "@jupyter-widgets/controls",
            "_model_module_version": "1.5.0",
            "_model_name": "DescriptionStyleModel",
            "_view_count": null,
            "_view_module": "@jupyter-widgets/base",
            "_view_module_version": "1.2.0",
            "_view_name": "StyleView",
            "description_width": ""
          }
        }
      }
    }
  },
  "nbformat": 4,
  "nbformat_minor": 0
}